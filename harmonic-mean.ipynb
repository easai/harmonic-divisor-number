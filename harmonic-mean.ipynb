{
 "cells": [
  {
   "cell_type": "markdown",
   "metadata": {},
   "source": [
    "# Harmonic Divisor Number\n",
    "\n",
    "The harmonic mean is calculated as the reciprocal of the average of the reciprocals of a set of numbers. The formula for the harmonic mean is:\n",
    "\n",
    "$$\n",
    "H=\\frac{n}{\\Sigma_{i=1}^n \\frac{1}{x_i}}\n",
    "$$\n",
    "\n",
    "where $n$ is the number of observations and $x_1, x_2, ..., x_n$ are the individual numbers in the series."
   ]
  },
  {
   "cell_type": "code",
   "execution_count": null,
   "metadata": {},
   "outputs": [
    {
     "ename": "",
     "evalue": "",
     "output_type": "error",
     "traceback": [
      "\u001b[1;31mRunning cells with 'harmonic-divisor-number-bXUfhdY0-py3.13 (Python 3.13.0)' requires the ipykernel package.\n",
      "\u001b[1;31mRun the following command to install 'ipykernel' into the Python environment. \n",
      "\u001b[1;31mCommand: 'c:/Users/toxme/AppData/Local/pypoetry/Cache/virtualenvs/harmonic-divisor-number-bXUfhdY0-py3.13/Scripts/python.exe -m pip install ipykernel -U --force-reinstall'"
     ]
    }
   ],
   "source": [
    "import sympy\n",
    "from sympy import Rational\n",
    "\n",
    "\n",
    "def harmonic_mean(lst):\n",
    "    n = len(lst)\n",
    "    sum = 0\n",
    "    if n <= 0:\n",
    "        return 0\n",
    "    for x in lst:\n",
    "        sum += Rational(1, x)\n",
    "    return n/sum\n",
    "\n",
    "\n",
    "harmonic_mean([1, 2, 4])"
   ]
  },
  {
   "cell_type": "markdown",
   "metadata": {},
   "source": [
    "The arithmetic mean $A$, also known as the average, is the sum of all the numbers in a set divided by the total count of numbers in the set. The geometric mean $G$ is a type of average that is calculated by taking the nth root of the product of a set of numbers, where n is the total count of numbers in the set. \n",
    "\n",
    "The formulas for calculating the arithmetic and geometric means are:\n",
    "$$\n",
    "A=\\frac{\\Sigma_{i=1}^n x_i}{n}\n",
    "$$\n",
    "$$\n",
    "G=\\sqrt[n]{\\Pi_{i=1}^n x_i}\n",
    "$$"
   ]
  },
  {
   "cell_type": "code",
   "execution_count": null,
   "metadata": {},
   "outputs": [],
   "source": [
    "from sympy import root\n",
    "def arithemetic_means(lst):\n",
    "    sum = 0\n",
    "    n = len(lst)\n",
    "    if n <= 0:\n",
    "        return 0\n",
    "    for x in lst:\n",
    "        sum += x\n",
    "    return Rational(sum, n)\n",
    "\n",
    "def geometric_mean(lst):\n",
    "    sum =1\n",
    "    n=len(lst)\n",
    "    if n<=0:\n",
    "        return 0\n",
    "    for x in lst:\n",
    "        sum*=x\n",
    "    return root(sum,n)\n",
    "\n",
    "geometric_mean([4,1,Rational(1,32)])"
   ]
  },
  {
   "cell_type": "markdown",
   "metadata": {},
   "source": [
    "By definition,\n",
    "$$\n",
    "H=A^{-1}(x_1^{-1},x_2^{-1},x_3^{-1},\\dots,x_n^{-1})\n",
    "$$"
   ]
  },
  {
   "cell_type": "markdown",
   "metadata": {},
   "source": [
    "The harmonic divisor number is a number whose divisors have a harmonic mean that is an integer.\n",
    "\n",
    "The code provided below performs calculations on the divisors ranging from 1 to 9. It verifies if the harmonic means of the divisors result in whole numbers or not."
   ]
  },
  {
   "cell_type": "code",
   "execution_count": null,
   "metadata": {},
   "outputs": [],
   "source": [
    "def sqrt(x):\n",
    "    y = 1\n",
    "    prev = 0\n",
    "    while 1 <= abs(y-prev):\n",
    "        prev = y\n",
    "        y = 1.0/2*(prev+x/prev)\n",
    "    while (y+1)*(y+1) < x:\n",
    "        y += 1\n",
    "    return int(y)\n",
    "\n",
    "def divisors(x):\n",
    "    n = sqrt(x)\n",
    "    lst = []\n",
    "    for i in range(1, n+1):\n",
    "        if x % i == 0:\n",
    "            lst.append(i)\n",
    "            if i != x/i:\n",
    "                lst.append(int(x/i))\n",
    "    lst.sort()\n",
    "    return lst\n",
    "\n",
    "from sympy import simplify\n",
    "for i in range(1,28):\n",
    "    lst=divisors(i)\n",
    "    h=harmonic_mean(lst)\n",
    "    flag=\" \"\n",
    "    if simplify(h).is_integer:\n",
    "        flag=\"*\"\n",
    "    print(f\"{flag}{i}\\t{h}\\t{lst}\")"
   ]
  },
  {
   "cell_type": "markdown",
   "metadata": {},
   "source": [
    "Let's list the harmonic divisor numbers from 1 to 10000."
   ]
  },
  {
   "cell_type": "code",
   "execution_count": null,
   "metadata": {},
   "outputs": [],
   "source": [
    "for i in range(1,10001):\n",
    "    lst=divisors(i)\n",
    "    h=harmonic_mean(lst)\n",
    "    if simplify(h).is_integer:\n",
    "        print(f\"{flag}{i}\\t{h}\\t{lst}\")"
   ]
  }
 ],
 "metadata": {
  "kernelspec": {
   "display_name": "harmonic-divisor-number-bXUfhdY0-py3.13",
   "language": "python",
   "name": "python3"
  },
  "language_info": {
   "codemirror_mode": {
    "name": "ipython",
    "version": 3
   },
   "file_extension": ".py",
   "mimetype": "text/x-python",
   "name": "python",
   "nbconvert_exporter": "python",
   "pygments_lexer": "ipython3",
   "version": "3.13.0"
  }
 },
 "nbformat": 4,
 "nbformat_minor": 2
}
