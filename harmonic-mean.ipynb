{
 "cells": [
  {
   "cell_type": "markdown",
   "metadata": {},
   "source": [
    "# Harmonic Divisor Number\n",
    "\n",
    "A harmonic mean is the inverse of the mean of the inverse of numbers.\n",
    "\n",
    "$$\n",
    "H=\\frac{n}{\\Sigma_{i=1}^n \\frac{i}{x_i}}\n",
    "$$"
   ]
  },
  {
   "cell_type": "code",
   "execution_count": 20,
   "metadata": {},
   "outputs": [
    {
     "data": {
      "text/latex": [
       "$\\displaystyle \\frac{12}{7}$"
      ],
      "text/plain": [
       "12/7"
      ]
     },
     "execution_count": 20,
     "metadata": {},
     "output_type": "execute_result"
    }
   ],
   "source": [
    "import sympy\n",
    "from sympy import Rational\n",
    "\n",
    "\n",
    "def harmonic_mean(lst):\n",
    "    n = len(lst)\n",
    "    sum = 0\n",
    "    if n <= 0:\n",
    "        return 0\n",
    "    for x in lst:\n",
    "        sum += Rational(1, x)\n",
    "    return n/sum\n",
    "\n",
    "\n",
    "harmonic_mean([1, 2, 4])"
   ]
  },
  {
   "cell_type": "markdown",
   "metadata": {},
   "source": [
    "The arthemetic means A and geometric means G are defined as follows.\n",
    "$$\n",
    "A=\\frac{\\Sigma_{i=1}^n x_i}{n}\n",
    "$$\n",
    "$$\n",
    "G=\\sqrt[n]{\\Pi_{i=1}^n x_i}\n",
    "$$"
   ]
  },
  {
   "cell_type": "code",
   "execution_count": 5,
   "metadata": {},
   "outputs": [
    {
     "data": {
      "text/latex": [
       "$\\displaystyle \\frac{1}{2}$"
      ],
      "text/plain": [
       "1/2"
      ]
     },
     "execution_count": 5,
     "metadata": {},
     "output_type": "execute_result"
    }
   ],
   "source": [
    "from sympy import root\n",
    "def arithemetic_means(lst):\n",
    "    sum = 0\n",
    "    n = len(lst)\n",
    "    if n <= 0:\n",
    "        return 0\n",
    "    for x in lst:\n",
    "        sum += x\n",
    "    return Rational(sum, n)\n",
    "\n",
    "def geometric_mean(lst):\n",
    "    sum =1\n",
    "    n=len(lst)\n",
    "    if n<=0:\n",
    "        return 0\n",
    "    for x in lst:\n",
    "        sum*=x\n",
    "    return root(sum,n)\n",
    "\n",
    "geometric_mean([4,1,Rational(1,32)])"
   ]
  },
  {
   "cell_type": "markdown",
   "metadata": {},
   "source": [
    "By definition,\n",
    "$$\n",
    "H=A^{-1}(x_1^{-1},x_2^{-1},x_3^{-1},\\dots,x_n^{-1})\n",
    "$$"
   ]
  },
  {
   "cell_type": "markdown",
   "metadata": {},
   "source": [
    "The harmonic divisor number is a number whose harmonic mean of its divisors is an integer. "
   ]
  },
  {
   "cell_type": "code",
   "execution_count": 27,
   "metadata": {},
   "outputs": [
    {
     "name": "stdout",
     "output_type": "stream",
     "text": [
      "*1\t1\t[1]\n",
      " 2\t4/3\t[1, 2]\n",
      " 3\t3/2\t[1, 3]\n",
      " 4\t12/7\t[1, 2, 4]\n",
      " 5\t5/3\t[1, 5]\n",
      "*6\t2\t[1, 2, 3, 6]\n",
      " 7\t7/4\t[1, 7]\n",
      " 8\t32/15\t[1, 2, 4, 8]\n",
      " 9\t27/13\t[1, 3, 9]\n"
     ]
    }
   ],
   "source": [
    "def sqrt(x):\n",
    "    y = 1\n",
    "    prev = 0\n",
    "    while 1 <= abs(y-prev):\n",
    "        prev = y\n",
    "        y = 1.0/2*(prev+x/prev)\n",
    "    while (y+1)*(y+1) < x:\n",
    "        y += 1\n",
    "    return int(y)\n",
    "\n",
    "def divisors(x):\n",
    "    n = sqrt(x)\n",
    "    lst = []\n",
    "    for i in range(1, n+1):\n",
    "        if x % i == 0:\n",
    "            lst.append(i)\n",
    "            if i != x/i:\n",
    "                lst.append(int(x/i))\n",
    "    lst.sort()\n",
    "    return lst\n",
    "\n",
    "from sympy import simplify\n",
    "for i in range(1,10):\n",
    "    lst=divisors(i)\n",
    "    h=harmonic_mean(lst)\n",
    "    flag=\" \"\n",
    "    if simplify(h).is_integer:\n",
    "        flag=\"*\"\n",
    "    print(f\"{flag}{i}\\t{h}\\t{lst}\")"
   ]
  },
  {
   "cell_type": "code",
   "execution_count": 30,
   "metadata": {},
   "outputs": [
    {
     "name": "stdout",
     "output_type": "stream",
     "text": [
      " 1\t1\t[1]\n",
      " 6\t2\t[1, 2, 3, 6]\n",
      " 28\t3\t[1, 2, 4, 7, 14, 28]\n",
      " 140\t5\t[1, 2, 4, 5, 7, 10, 14, 20, 28, 35, 70, 140]\n",
      " 270\t6\t[1, 2, 3, 5, 6, 9, 10, 15, 18, 27, 30, 45, 54, 90, 135, 270]\n",
      " 496\t5\t[1, 2, 4, 8, 16, 31, 62, 124, 248, 496]\n",
      " 672\t8\t[1, 2, 3, 4, 6, 7, 8, 12, 14, 16, 21, 24, 28, 32, 42, 48, 56, 84, 96, 112, 168, 224, 336, 672]\n",
      " 1638\t9\t[1, 2, 3, 6, 7, 9, 13, 14, 18, 21, 26, 39, 42, 63, 78, 91, 117, 126, 182, 234, 273, 546, 819, 1638]\n",
      " 2970\t11\t[1, 2, 3, 5, 6, 9, 10, 11, 15, 18, 22, 27, 30, 33, 45, 54, 55, 66, 90, 99, 110, 135, 165, 198, 270, 297, 330, 495, 594, 990, 1485, 2970]\n",
      " 6200\t10\t[1, 2, 4, 5, 8, 10, 20, 25, 31, 40, 50, 62, 100, 124, 155, 200, 248, 310, 620, 775, 1240, 1550, 3100, 6200]\n",
      " 8128\t7\t[1, 2, 4, 8, 16, 32, 64, 127, 254, 508, 1016, 2032, 4064, 8128]\n",
      " 8190\t15\t[1, 2, 3, 5, 6, 7, 9, 10, 13, 14, 15, 18, 21, 26, 30, 35, 39, 42, 45, 63, 65, 70, 78, 90, 91, 105, 117, 126, 130, 182, 195, 210, 234, 273, 315, 390, 455, 546, 585, 630, 819, 910, 1170, 1365, 1638, 2730, 4095, 8190]\n"
     ]
    }
   ],
   "source": [
    "for i in range(1,10000):\n",
    "    lst=divisors(i)\n",
    "    h=harmonic_mean(lst)\n",
    "    if simplify(h).is_integer:\n",
    "        print(f\"{flag}{i}\\t{h}\\t{lst}\")"
   ]
  }
 ],
 "metadata": {
  "kernelspec": {
   "display_name": "Python 3",
   "language": "python",
   "name": "python3"
  },
  "language_info": {
   "codemirror_mode": {
    "name": "ipython",
    "version": 3
   },
   "file_extension": ".py",
   "mimetype": "text/x-python",
   "name": "python",
   "nbconvert_exporter": "python",
   "pygments_lexer": "ipython3",
   "version": "3.11.5"
  }
 },
 "nbformat": 4,
 "nbformat_minor": 2
}
